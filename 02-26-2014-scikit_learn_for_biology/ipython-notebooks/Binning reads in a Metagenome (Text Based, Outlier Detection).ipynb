{
 "metadata": {
  "name": ""
 },
 "nbformat": 3,
 "nbformat_minor": 0,
 "worksheets": [
  {
   "cells": [
    {
     "cell_type": "markdown",
     "metadata": {},
     "source": [
      "# Metagenomic Binning\n",
      "\n",
      "Here we separate out reads from a genome of interest from shotgun metagenomic data.\n",
      "\n",
      "This is useful if you're attempting to sequence the genome of a bacterium that you can't culture.\n",
      "\n",
      "1. Fit a One Class Support Vector Machine to our genome of interest\n",
      "2. Predict outliers in our metagenome"
     ]
    },
    {
     "cell_type": "code",
     "collapsed": false,
     "input": [
      "# The Setup\n",
      "from sklearn.feature_extraction.text import HashingVectorizer, TfidfVectorizer\n",
      "from sklearn.svm import OneClassSVM\n",
      "from sklearn.preprocessing import StandardScaler\n",
      "from sklearn.pipeline import Pipeline\n",
      "from Bio import SeqIO"
     ],
     "language": "python",
     "metadata": {},
     "outputs": [],
     "prompt_number": 16
    },
    {
     "cell_type": "code",
     "collapsed": false,
     "input": [
      "hasher = HashingVectorizer(analyzer='char',\n",
      "                           ngram_range=(4, 4))\n",
      "svm = OneClassSVM()\n",
      "pipeline = Pipeline([('hash', hasher),\n",
      "                     ('predict', svm)])"
     ],
     "language": "python",
     "metadata": {},
     "outputs": [],
     "prompt_number": 17
    },
    {
     "cell_type": "code",
     "collapsed": false,
     "input": [
      "# load training data (genome of interest)\n",
      "\n",
      "def to_kmers(s, length=100, step=500):\n",
      "    ''' because we don't want to train on one big sequence '''\n",
      "    for i in range(0, len(s), step):\n",
      "        yield s[i:i+length]\n",
      "        \n",
      "# fit outlier detector\n",
      "with open('./data/e_coli.fasta') as handle:\n",
      "    records = [ str(i.seq) for i in SeqIO.parse(handle, 'fasta') ]\n",
      "    kmers = list(to_kmers(records[0]))\n",
      "    pipeline.fit(kmers)"
     ],
     "language": "python",
     "metadata": {},
     "outputs": [],
     "prompt_number": "*"
    },
    {
     "cell_type": "code",
     "collapsed": false,
     "input": [
      "# bin mock metagenomic reads (I just mixed together 3 genomes...)\n",
      "with open('./data/mock_metagenome.fasta') as handle:\n",
      "    records = [ str(i.seq) for i in SeqIO.parse(handle, 'fasta') ]\n",
      "    records = [ to_kmers(r) for r in records ] # chop up genomes\n",
      "    predictions = pipeline.predict(r)"
     ],
     "language": "python",
     "metadata": {},
     "outputs": [],
     "prompt_number": "*"
    },
    {
     "cell_type": "code",
     "collapsed": false,
     "input": [
      "pos = len([i for i in predictions if i == 1])\n",
      "neg = len(predictions)\n",
      "print 'Proportion of inliers = %.2f' % (pos/float(neg))"
     ],
     "language": "python",
     "metadata": {},
     "outputs": [],
     "prompt_number": "*"
    },
    {
     "cell_type": "code",
     "collapsed": false,
     "input": [
      "# Separate inlier sequences\n",
      "predicted_seqs = [ r for r, p in zip(records, predictions) if p == 1 ]"
     ],
     "language": "python",
     "metadata": {},
     "outputs": [],
     "prompt_number": 6
    },
    {
     "cell_type": "code",
     "collapsed": false,
     "input": [
      "for p in predicted_seqs:\n",
      "    print p"
     ],
     "language": "python",
     "metadata": {},
     "outputs": [],
     "prompt_number": 7
    }
   ],
   "metadata": {}
  }
 ]
}