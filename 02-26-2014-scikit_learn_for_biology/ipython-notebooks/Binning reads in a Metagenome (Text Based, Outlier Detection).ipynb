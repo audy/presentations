{
 "metadata": {
  "name": ""
 },
 "nbformat": 3,
 "nbformat_minor": 0,
 "worksheets": [
  {
   "cells": [
    {
     "cell_type": "markdown",
     "metadata": {},
     "source": [
      "# Metagenomic Binning\n",
      "\n",
      "Here we separate out reads from a genome of interest from shotgun metagenomic data.\n",
      "\n",
      "This is useful if you're attempting to sequence the genome of a bacterium that you can't culture.\n",
      "\n",
      "1. Fit a One Class Support Vector Machine to our genome of interest\n",
      "2. Predict outliers in our metagenome"
     ]
    },
    {
     "cell_type": "code",
     "collapsed": false,
     "input": [
      "# The Setup\n",
      "from sklearn.feature_extraction.text import HashingVectorizer\n",
      "from sklearn.svm \n",
      "import OneClassSVM\n",
      "from sklearn.pipeline import Pipeline\n",
      "from Bio import SeqIO"
     ],
     "language": "python",
     "metadata": {},
     "outputs": [],
     "prompt_number": 7
    },
    {
     "cell_type": "code",
     "collapsed": false,
     "input": [
      "hasher = HashingVectorizer()\n",
      "svm = OneClassSVM()\n",
      "pipeline = Pipeline([('hash', hasher),\n",
      "                     ('predict', svm)])"
     ],
     "language": "python",
     "metadata": {},
     "outputs": [],
     "prompt_number": 8
    },
    {
     "cell_type": "code",
     "collapsed": false,
     "input": [
      "# load training data (genome of interest)\n",
      "with open('/Users/austin/Desktop/genome.fasta') as handle:\n",
      "    records = [ str(i.seq) for i in SeqIO.parse(handle, 'fasta') ]\n",
      "    \n",
      "pipeline.fit(records)"
     ],
     "language": "python",
     "metadata": {},
     "outputs": [
      {
       "metadata": {},
       "output_type": "pyout",
       "prompt_number": 11,
       "text": [
        "Pipeline(steps=[('hash', HashingVectorizer(analyzer=u'word', binary=False, charset=None,\n",
        "         charset_error=None, decode_error=u'strict',\n",
        "         dtype=<type 'numpy.float64'>, encoding=u'utf-8', input=u'content',\n",
        "         lowercase=True, n_features=1048576, ngram_range=(1, 1),\n",
        "         non_negative=Fals...bf',\n",
        "      max_iter=-1, nu=0.5, random_state=None, shrinking=True, tol=0.001,\n",
        "      verbose=False))])"
       ]
      }
     ],
     "prompt_number": 11
    },
    {
     "cell_type": "code",
     "collapsed": false,
     "input": [
      "# bin reads from metagenome ...\n",
      "with open('/Users/austin/Desktop/metagenome.fasta') as handle:\n",
      "    records = [ str(i.seq) for i in SeqIO.parse(handle, 'fasta') ]\n",
      "    predictions = pipeline.predict(records)\n",
      "    for p, r in zip(predictions, records):\n",
      "        r.id = p\n",
      "        print r.format('fasta')"
     ],
     "language": "python",
     "metadata": {},
     "outputs": []
    }
   ],
   "metadata": {}
  }
 ]
}