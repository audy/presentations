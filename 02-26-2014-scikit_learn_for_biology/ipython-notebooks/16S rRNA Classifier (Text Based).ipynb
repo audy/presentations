{
 "metadata": {
  "name": ""
 },
 "nbformat": 3,
 "nbformat_minor": 0,
 "worksheets": [
  {
   "cells": [
    {
     "cell_type": "markdown",
     "metadata": {},
     "source": [
      "# 16S rRNA Classifier\n",
      "\n",
      "Here we will test the ability of the Naive Bayes, and K Neighbors classifiers to classify 16S rRNA sequences at the Phylum-level. Both of these classifiers support multi-label classification using spare data.\n",
      "\n",
      "A Hashing Vectorizer will be used for feature extraction. Briefly, the Hashing Vectorizer will break a sequence of nucleotides into n-grams and map their frequency to a spare matrix."
     ]
    },
    {
     "cell_type": "code",
     "collapsed": false,
     "input": [
      "# the setup\n",
      "import re\n",
      "from Bio import SeqIO\n",
      "\n",
      "import numpy as np\n",
      "\n",
      "from sklearn.feature_extraction.text import HashingVectorizer\n",
      "from sklearn.pipeline import Pipeline\n",
      "from sklearn.cross_validation import cross_val_score\n",
      "\n",
      "from sklearn.naive_bayes import MultinomialNB\n",
      "from sklearn.neighbors import KNeighborsClassifier\n",
      "from sklearn.ensemble import RandomForestRegressor"
     ],
     "language": "python",
     "metadata": {},
     "outputs": [],
     "prompt_number": 11
    },
    {
     "cell_type": "code",
     "collapsed": false,
     "input": [
      "# Load sequences from Fasta file. Header contains NCBI Taxonomy.\n",
      "with open('/Users/austin/Desktop/sample.fa') as handle:\n",
      "    records = list(SeqIO.parse(handle, 'fasta'))\n",
      "    \n",
      "def get_classif(s, level):\n",
      "    ''' hacky regexp to match classification at level '''\n",
      "    try:\n",
      "        return re.search(\"\\[%s\\](\\w*);\" % 1, s).group(1)\n",
      "    except:\n",
      "        return None\n",
      "\n",
      "# Get features & labels\n",
      "dat = [ [get_classif(r.id, 1), str(r.seq)] for r in records ]\n",
      "\n",
      "# Throw out missing labels\n",
      "dat = [ x for x in dat if not x[0] == None ]\n",
      "\n",
      "# Convert to Numpy arrays.\n",
      "labels = np.asarray([x[0] for x in dat])\n",
      "features = np.asarray([x[1] for x in dat])"
     ],
     "language": "python",
     "metadata": {},
     "outputs": [],
     "prompt_number": 12
    },
    {
     "cell_type": "code",
     "collapsed": false,
     "input": [
      "# setup classifiers\n",
      "k_neighbors = KNeighborsClassifier(n_neighbors=len(set(labels)))\n",
      "bayes = MultinomialNB()\n",
      "\n",
      "# setup hasing vectorizer for feature extraction\n",
      "# (converts nucleotide sequence to a spare matrix)\n",
      "vectorizer = HashingVectorizer(analyzer='char',\n",
      "                               ngram_range=(3, 3),\n",
      "                               n_features=3**4,\n",
      "                               non_negative=True)\n",
      "\n",
      "# Setup classifier\n",
      "# (TFIDF) Hashing Vectorizer -> Multinomial Naive Bayes/KNeighborsClassifier, etc...\n",
      "classifier = Pipeline([('hash', vectorizer),\n",
      "                       ('classify', bayes)\n",
      "                       ])"
     ],
     "language": "python",
     "metadata": {},
     "outputs": [],
     "prompt_number": 19
    },
    {
     "cell_type": "code",
     "collapsed": false,
     "input": [
      "# cross-validate (3-fold by default)\n",
      "scores = cross_val_score(classifier, features, labels)"
     ],
     "language": "python",
     "metadata": {},
     "outputs": [],
     "prompt_number": 20
    },
    {
     "cell_type": "code",
     "collapsed": false,
     "input": [
      "print '%.2f SD = %.4f' % (scores.mean(), scores.std())"
     ],
     "language": "python",
     "metadata": {},
     "outputs": [
      {
       "output_type": "stream",
       "stream": "stdout",
       "text": [
        "0.44 SD = 0.0003\n"
       ]
      }
     ],
     "prompt_number": 21
    }
   ],
   "metadata": {}
  }
 ]
}