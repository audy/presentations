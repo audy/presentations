{
 "metadata": {
  "name": ""
 },
 "nbformat": 3,
 "nbformat_minor": 0,
 "worksheets": [
  {
   "cells": [
    {
     "cell_type": "markdown",
     "metadata": {},
     "source": [
      "# 16S rRNA Classifier\n",
      "\n",
      "Here we will test the ability of the Naive Bayes, and K Neighbors classifiers to classify 16S rRNA sequences at the Phylum-level.\n",
      "\n",
      "Algorithms were chosen because they both support multi-label classification using spare data.\n",
      "\n",
      "A Hashing Vectorizer will be used for feature extraction.\n",
      "\n",
      "Briefly, the Hashing Vectorizer will break a sequence of nucleotides into n-grams and map their frequency to a sparse matrix."
     ]
    },
    {
     "cell_type": "code",
     "collapsed": false,
     "input": [
      "# the setup\n",
      "import re\n",
      "from Bio import SeqIO\n",
      "\n",
      "import numpy as np\n",
      "\n",
      "from sklearn.feature_extraction.text import HashingVectorizer\n",
      "from sklearn.pipeline import Pipeline\n",
      "from sklearn.cross_validation import cross_val_score\n",
      "from sklearn.dummy import DummyClassifier\n",
      "\n",
      "from sklearn.naive_bayes import MultinomialNB\n",
      "from sklearn.neighbors import KNeighborsClassifier\n",
      "from sklearn.ensemble import RandomForestRegressor"
     ],
     "language": "python",
     "metadata": {},
     "outputs": [],
     "prompt_number": 2
    },
    {
     "cell_type": "code",
     "collapsed": false,
     "input": [
      "# Load sequences from Fasta file. Header contains NCBI Taxonomy.\n",
      "with open('data/16s.fasta') as handle:\n",
      "    records = list(SeqIO.parse(handle, 'fasta'))\n",
      "    \n",
      "def get_classif(s, level):\n",
      "    ''' Get phylum (or whatever) name given the NCBI taxonomy '''\n",
      "    try:\n",
      "        return re.search(\"\\[%s\\](\\w*);\" % 1, s).group(1)\n",
      "    except:\n",
      "        return None\n",
      "\n",
      "# Get features & labels\n",
      "dat = [ [get_classif(r.id, 1), str(r.seq)] for r in records ]\n",
      "\n",
      "# Throw out missing labels\n",
      "dat = [ x for x in dat if not x[0] == None ]\n",
      "\n",
      "# Convert to Numpy arrays.\n",
      "labels = np.asarray([x[0] for x in dat])\n",
      "features = np.asarray([x[1] for x in dat])"
     ],
     "language": "python",
     "metadata": {},
     "outputs": [],
     "prompt_number": 4
    },
    {
     "cell_type": "code",
     "collapsed": false,
     "input": [
      "labels"
     ],
     "language": "python",
     "metadata": {},
     "outputs": [
      {
       "metadata": {},
       "output_type": "pyout",
       "prompt_number": 11,
       "text": [
        "array(['Proteobacteria', 'Proteobacteria', 'Proteobacteria', ...,\n",
        "       'Firmicutes', 'Firmicutes', 'Proteobacteria'], \n",
        "      dtype='|S27')"
       ]
      }
     ],
     "prompt_number": 11
    },
    {
     "cell_type": "code",
     "collapsed": false,
     "input": [
      "# setup classifiers\n",
      "k_neighbors = KNeighborsClassifier(n_neighbors=len(set(labels)))\n",
      "bayes = MultinomialNB()\n",
      "\n",
      "# setup hasing vectorizer for feature extraction\n",
      "# (converts nucleotide sequence to a spare matrix)\n",
      "vectorizer = HashingVectorizer(analyzer='char',\n",
      "                               ngram_range=(3, 3),\n",
      "                               n_features=3**4,\n",
      "                               non_negative=True)\n",
      "\n",
      "# Setup classifier\n",
      "# (TFIDF) Hashing Vectorizer -> Multinomial Naive Bayes/KNeighborsClassifier, etc...\n",
      "classifier = Pipeline([('hash', vectorizer),\n",
      "                       ('classify', k_neighbors)\n",
      "                       ])"
     ],
     "language": "python",
     "metadata": {},
     "outputs": [],
     "prompt_number": 18
    },
    {
     "cell_type": "code",
     "collapsed": false,
     "input": [
      "# cross-validate (3-fold by default)\n",
      "scores = cross_val_score(classifier, features, labels)\n",
      "dummy_scores = cross_val_score(DummyClassifier(), features, labels)"
     ],
     "language": "python",
     "metadata": {},
     "outputs": [],
     "prompt_number": 19
    },
    {
     "cell_type": "code",
     "collapsed": false,
     "input": [
      "print 'Classifier: %.2f SD = %.4f' % (scores.mean(), scores.std())\n",
      "print 'Dummy: %.2f SD = %.4f' % (dummy_scores.mean(), dummy_scores.std())"
     ],
     "language": "python",
     "metadata": {},
     "outputs": [
      {
       "output_type": "stream",
       "stream": "stdout",
       "text": [
        "Classifier: 0.92 SD = 0.0088\n",
        "Dummy: 0.33 SD = 0.0177\n"
       ]
      }
     ],
     "prompt_number": 20
    }
   ],
   "metadata": {}
  }
 ]
}