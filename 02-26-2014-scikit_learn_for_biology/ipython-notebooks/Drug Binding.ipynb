{
 "metadata": {
  "name": ""
 },
 "nbformat": 3,
 "nbformat_minor": 0,
 "worksheets": [
  {
   "cells": [
    {
     "cell_type": "markdown",
     "metadata": {},
     "source": [
      "# Drug Binding Affinity Prediction\n",
      "\n",
      "Dias et al. \"Evaluation of Molecular Docking Using Polynomial Empirical Scoring Functions\". Current Drug Targets 2008. 9(12):1062-70."
     ]
    },
    {
     "cell_type": "code",
     "collapsed": false,
     "input": [
      "import pandas as pd\n",
      "\n",
      "from sklearn.dummy import DummyRegressor\n",
      "from sklearn.linear_model import BayesianRidge\n",
      "from sklearn.cross_validation import cross_val_score\n",
      "from sklearn.metrics import r2_score"
     ],
     "language": "python",
     "metadata": {},
     "outputs": [],
     "prompt_number": 22
    },
    {
     "cell_type": "code",
     "collapsed": false,
     "input": [
      "dat = pd.read_csv('data/drug_binding.csv', header=None)"
     ],
     "language": "python",
     "metadata": {},
     "outputs": [],
     "prompt_number": 3
    },
    {
     "cell_type": "code",
     "collapsed": false,
     "input": [
      "target = dat[14]\n",
      "colnames = set(dat.columns)\n",
      "colnames.remove(14)\n",
      "features = dat[list(colnames)]\n",
      "# remove string columns\n",
      "del features[0]\n",
      "del features[8]\n",
      "del features[10]"
     ],
     "language": "python",
     "metadata": {},
     "outputs": [],
     "prompt_number": 4
    },
    {
     "cell_type": "code",
     "collapsed": false,
     "input": [
      "features.head()"
     ],
     "language": "python",
     "metadata": {},
     "outputs": [
      {
       "html": [
        "<div style=\"max-height:1000px;max-width:1500px;overflow:auto;\">\n",
        "<table border=\"1\" class=\"dataframe\">\n",
        "  <thead>\n",
        "    <tr style=\"text-align: right;\">\n",
        "      <th></th>\n",
        "      <th>1</th>\n",
        "      <th>2</th>\n",
        "      <th>3</th>\n",
        "      <th>4</th>\n",
        "      <th>5</th>\n",
        "      <th>6</th>\n",
        "      <th>7</th>\n",
        "      <th>9</th>\n",
        "      <th>11</th>\n",
        "      <th>12</th>\n",
        "      <th>13</th>\n",
        "    </tr>\n",
        "  </thead>\n",
        "  <tbody>\n",
        "    <tr>\n",
        "      <th>0</th>\n",
        "      <td> 633.89</td>\n",
        "      <td>-3545.83</td>\n",
        "      <td> 47.0</td>\n",
        "      <td> 16</td>\n",
        "      <td>  5979.8</td>\n",
        "      <td> 5236.6</td>\n",
        "      <td> 6.82</td>\n",
        "      <td>-173.270</td>\n",
        "      <td> -0.16</td>\n",
        "      <td>-0.39</td>\n",
        "      <td> -4.39</td>\n",
        "    </tr>\n",
        "    <tr>\n",
        "      <th>1</th>\n",
        "      <td> 327.10</td>\n",
        "      <td> -907.35</td>\n",
        "      <td> 10.0</td>\n",
        "      <td>  8</td>\n",
        "      <td> 16947.7</td>\n",
        "      <td> 4009.1</td>\n",
        "      <td> 6.05</td>\n",
        "      <td>-117.521</td>\n",
        "      <td>  0.15</td>\n",
        "      <td> 0.31</td>\n",
        "      <td> -2.64</td>\n",
        "    </tr>\n",
        "    <tr>\n",
        "      <th>2</th>\n",
        "      <td> 288.99</td>\n",
        "      <td> -901.98</td>\n",
        "      <td>  9.5</td>\n",
        "      <td> 12</td>\n",
        "      <td> 17244.8</td>\n",
        "      <td> 4041.5</td>\n",
        "      <td> 8.60</td>\n",
        "      <td>-116.378</td>\n",
        "      <td>  0.14</td>\n",
        "      <td> 0.43</td>\n",
        "      <td> -2.67</td>\n",
        "    </tr>\n",
        "    <tr>\n",
        "      <th>3</th>\n",
        "      <td> 208.01</td>\n",
        "      <td> -803.09</td>\n",
        "      <td>  2.5</td>\n",
        "      <td>  7</td>\n",
        "      <td>  4268.0</td>\n",
        "      <td> 8411.2</td>\n",
        "      <td> 7.77</td>\n",
        "      <td> -67.019</td>\n",
        "      <td>-10.18</td>\n",
        "      <td>-9.65</td>\n",
        "      <td>-17.30</td>\n",
        "    </tr>\n",
        "    <tr>\n",
        "      <th>4</th>\n",
        "      <td> 550.81</td>\n",
        "      <td>-1827.71</td>\n",
        "      <td> 21.5</td>\n",
        "      <td> 18</td>\n",
        "      <td> 12112.4</td>\n",
        "      <td> 3952.9</td>\n",
        "      <td> 6.64</td>\n",
        "      <td>-191.893</td>\n",
        "      <td>  3.08</td>\n",
        "      <td> 3.82</td>\n",
        "      <td>  1.04</td>\n",
        "    </tr>\n",
        "  </tbody>\n",
        "</table>\n",
        "<p>5 rows \u00d7 11 columns</p>\n",
        "</div>"
       ],
       "metadata": {},
       "output_type": "pyout",
       "prompt_number": 5,
       "text": [
        "       1        2     3   4        5       6     7        9      11    12  \\\n",
        "0  633.89 -3545.83  47.0  16   5979.8  5236.6  6.82 -173.270  -0.16 -0.39   \n",
        "1  327.10  -907.35  10.0   8  16947.7  4009.1  6.05 -117.521   0.15  0.31   \n",
        "2  288.99  -901.98   9.5  12  17244.8  4041.5  8.60 -116.378   0.14  0.43   \n",
        "3  208.01  -803.09   2.5   7   4268.0  8411.2  7.77  -67.019 -10.18 -9.65   \n",
        "4  550.81 -1827.71  21.5  18  12112.4  3952.9  6.64 -191.893   3.08  3.82   \n",
        "\n",
        "      13  \n",
        "0  -4.39  \n",
        "1  -2.64  \n",
        "2  -2.67  \n",
        "3 -17.30  \n",
        "4   1.04  \n",
        "\n",
        "[5 rows x 11 columns]"
       ]
      }
     ],
     "prompt_number": 5
    },
    {
     "cell_type": "code",
     "collapsed": false,
     "input": [
      "scores = cross_val_score(BayesianRidge(), features, target, scoring='r2').mean()\n",
      "dummy_scores = cross_val_score(DummyRegressor(), features, target, scoring='r2').mean()\n",
      "\n",
      "print 'Score: %.2f SD = %.2f' % (scores.mean(), scores.std()) \n",
      "print 'Dummy: %.2f SD = %.2f' % (dummy_scores.mean(), dummy_scores.std())"
     ],
     "language": "python",
     "metadata": {},
     "outputs": [
      {
       "output_type": "stream",
       "stream": "stdout",
       "text": [
        "Score: 1.00 SD = 0.00\n",
        "Dummy: -0.10 SD = 0.00\n"
       ]
      }
     ],
     "prompt_number": 24
    }
   ],
   "metadata": {}
  }
 ]
}