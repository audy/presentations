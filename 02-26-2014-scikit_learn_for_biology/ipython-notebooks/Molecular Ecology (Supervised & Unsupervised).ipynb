{
 "metadata": {
  "name": ""
 },
 "nbformat": 3,
 "nbformat_minor": 0,
 "worksheets": [
  {
   "cells": [
    {
     "cell_type": "markdown",
     "metadata": {},
     "source": [
      "# Molecular Ecology\n",
      "\n",
      "Here we predict environment based on Operational Taxonomic Unit abundance data."
     ]
    },
    {
     "cell_type": "code",
     "collapsed": false,
     "input": [
      "# The Setup\n",
      "import pandas as pd\n",
      "from sklearn.ensemble import RandomForestRegressor\n",
      "from sklearn.dummy import DummyRegressor\n",
      "from sklearn.cross_validation import cross_val_score"
     ],
     "language": "python",
     "metadata": {},
     "outputs": [],
     "prompt_number": 124
    },
    {
     "cell_type": "code",
     "collapsed": false,
     "input": [
      "# Load Data\n",
      "dat = pd.read_csv('enterotypes.csv', index_col=0)\n",
      "\n",
      "# Remove samples where Enterotype is missing (wait I thought there were 3!)\n",
      "dat = dat[np.isfinite(dat['Enterotype'])]"
     ],
     "language": "python",
     "metadata": {},
     "outputs": [],
     "prompt_number": 37
    },
    {
     "cell_type": "code",
     "collapsed": false,
     "input": [
      "# finagle here and there to get the features and labels\n",
      "labels = dat['Enterotype'].values\n",
      "colnames = set(dat.columns)\n",
      "colnames.remove('Enterotype')\n",
      "features = dat[list(colnames)]"
     ],
     "language": "python",
     "metadata": {},
     "outputs": [],
     "prompt_number": 100
    },
    {
     "cell_type": "code",
     "collapsed": false,
     "input": [
      "# Setup Classifier\n",
      "estimator = RandomForestRegressor()\n",
      "dummy = DummyRegressor()"
     ],
     "language": "python",
     "metadata": {},
     "outputs": [],
     "prompt_number": 137
    },
    {
     "cell_type": "code",
     "collapsed": false,
     "input": [
      "# evaluate performance\n",
      "scores = cross_val_score(estimator, features, labels)\n",
      "dummy_scores = cross_val_score(dummy, features, labels)\n",
      "\n",
      "print 'Random Forest: %.2f sd = %.2f' % (scores.mean(), scores.std())\n",
      "print 'Dummy: %.2f sd = %.2f' % (dummy_scores.mean(), dummy_scores.std())"
     ],
     "language": "python",
     "metadata": {},
     "outputs": [
      {
       "output_type": "stream",
       "stream": "stdout",
       "text": [
        "Random Forest: 0.48 sd = 0.20\n",
        "Dummy: -0.04 sd = 0.03\n"
       ]
      }
     ],
     "prompt_number": 139
    },
    {
     "cell_type": "markdown",
     "metadata": {},
     "source": [
      "# Unsupervised Clustering\n",
      "\n",
      "1. Try to pick out 3 \"Enterotypes\" using our own unsupervised learning\n",
      "2. Visualize in 2D using some sort of dimension reduction (PCA in this case)"
     ]
    },
    {
     "cell_type": "code",
     "collapsed": false,
     "input": [
      "# The Setup\n",
      "\n",
      "from sklearn.cluster import KMeans, SpectralClustering\n",
      "from sklearn.metrics import silhouette_score\n",
      "from sklearn.decomposition import RandomizedPCA as PCA\n",
      "\n",
      "# we assume 3 clusters because that's what's in the paper ;)\n",
      "classifier = SpectralClustering(n_clusters=3)\n",
      "#classifier = KMeans(n_clusters=3)"
     ],
     "language": "python",
     "metadata": {},
     "outputs": [],
     "prompt_number": 169
    },
    {
     "cell_type": "code",
     "collapsed": false,
     "input": [
      "# unsupervised learning (de-novo clustering)\n",
      "predictions = classifier.fit_predict(features)"
     ],
     "language": "python",
     "metadata": {},
     "outputs": [],
     "prompt_number": 170
    },
    {
     "cell_type": "code",
     "collapsed": false,
     "input": [
      "# compute dimension reduction to plot features in 2D\n",
      "pca = PCA().fit_transform(features)"
     ],
     "language": "python",
     "metadata": {},
     "outputs": [],
     "prompt_number": 171
    },
    {
     "cell_type": "code",
     "collapsed": false,
     "input": [
      "# Plot PCA\n",
      "title('Enterotypes')\n",
      "scatter(reduction[1,], reduction[0,], c=predictions, marker='o')\n",
      "pylab.show()"
     ],
     "language": "python",
     "metadata": {},
     "outputs": [
      {
       "metadata": {},
       "output_type": "display_data",
       "png": "[encoded data removed]",
       "text": [
        "<matplotlib.figure.Figure at 0x11797f6d0>"
       ]
      }
     ],
     "prompt_number": 172
    },
    {
     "cell_type": "code",
     "collapsed": false,
     "input": [
      "scatter(reduction[1,], reduction[0,], c=labels, marker='o')\n",
      "title('K-Means Predictions')\n",
      "pylab.show()"
     ],
     "language": "python",
     "metadata": {},
     "outputs": [
      {
       "metadata": {},
       "output_type": "display_data",
       "png": "[encoded data removed]",
       "text": [
        "<matplotlib.figure.Figure at 0x117944550>"
       ]
      }
     ],
     "prompt_number": 173
    }
   ],
   "metadata": {}
  }
 ]
}