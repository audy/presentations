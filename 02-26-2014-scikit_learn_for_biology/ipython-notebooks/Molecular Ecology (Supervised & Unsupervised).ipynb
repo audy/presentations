{
 "metadata": {
  "name": ""
 },
 "nbformat": 3,
 "nbformat_minor": 0,
 "worksheets": [
  {
   "cells": [
    {
     "cell_type": "markdown",
     "metadata": {},
     "source": [
      "# Molecular Ecology\n",
      "\n",
      "Enterotypes"
     ]
    },
    {
     "cell_type": "code",
     "collapsed": false,
     "input": [
      "# The Setup\n",
      "import pandas as pd\n",
      "from sklearn.ensemble import RandomForestRegressor\n",
      "from sklearn.dummy import DummyRegressor\n",
      "from sklearn.cross_validation import cross_val_score"
     ],
     "language": "python",
     "metadata": {},
     "outputs": [],
     "prompt_number": 49
    },
    {
     "cell_type": "code",
     "collapsed": false,
     "input": [
      "# Load Data\n",
      "dat = pd.read_csv('data/enterotypes.csv', index_col=0)\n",
      "\n",
      "# Remove samples where Enterotype is missing (wait I thought there were 3!)\n",
      "dat = dat[np.isfinite(dat['Enterotype'])]"
     ],
     "language": "python",
     "metadata": {},
     "outputs": [],
     "prompt_number": 53
    },
    {
     "cell_type": "code",
     "collapsed": false,
     "input": [
      "# finagle here and there to get the features and labels\n",
      "labels = dat['Enterotype'].values\n",
      "colnames = set(dat.columns)\n",
      "colnames.remove('Enterotype')\n",
      "features = dat[list(colnames)]"
     ],
     "language": "python",
     "metadata": {},
     "outputs": [],
     "prompt_number": 54
    },
    {
     "cell_type": "code",
     "collapsed": false,
     "input": [
      "# Setup Classifier\n",
      "estimator = RandomForestRegressor()\n",
      "dummy = DummyRegressor()"
     ],
     "language": "python",
     "metadata": {},
     "outputs": [],
     "prompt_number": 55
    },
    {
     "cell_type": "code",
     "collapsed": false,
     "input": [
      "# evaluate performance\n",
      "scores = cross_val_score(estimator, features, labels)\n",
      "dummy_scores = cross_val_score(dummy, features, labels)\n",
      "\n",
      "print 'Random Forest: %.2f sd = %.2f' % (scores.mean(), scores.std())\n",
      "print 'Dummy: %.2f sd = %.2f' % (dummy_scores.mean(), dummy_scores.std())"
     ],
     "language": "python",
     "metadata": {},
     "outputs": [
      {
       "output_type": "stream",
       "stream": "stdout",
       "text": [
        "Random Forest: 0.48 sd = 0.21\n",
        "Dummy: -0.04 sd = 0.03\n"
       ]
      }
     ],
     "prompt_number": 56
    },
    {
     "cell_type": "markdown",
     "metadata": {},
     "source": [
      "# Unsupervised Clustering\n",
      "\n",
      "1. Try to pick out 3 \"Enterotypes\" using our own unsupervised learning\n",
      "2. Visualize in 2D using some sort of dimension reduction (PCA in this case)"
     ]
    },
    {
     "cell_type": "code",
     "collapsed": false,
     "input": [
      "# The Setup\n",
      "\n",
      "from sklearn.cluster import KMeans, SpectralClustering\n",
      "from sklearn.metrics import silhouette_score, completeness_score\n",
      "from sklearn.decomposition import RandomizedPCA as PCA\n",
      "\n",
      "# we assume 3 clusters because that's what's in the paper ;)\n",
      "#classifier = SpectralClustering(n_clusters=3)\n",
      "classifier = KMeans(n_clusters=3)"
     ],
     "language": "python",
     "metadata": {},
     "outputs": [],
     "prompt_number": 57
    },
    {
     "cell_type": "code",
     "collapsed": false,
     "input": [
      "# unsupervised learning (de-novo clustering)\n",
      "predictions = classifier.fit_predict(features)"
     ],
     "language": "python",
     "metadata": {},
     "outputs": [],
     "prompt_number": 58
    },
    {
     "cell_type": "code",
     "collapsed": false,
     "input": [
      "# The Silhouette Coefficient is calculated using the mean intra-cluster distance\n",
      "# (a) and the mean nearest-cluster distance (b) for each sample.\n",
      "# The Silhouette Coefficient for a sample is (b - a) / max(a, b).\n",
      "print 'Silhouette Coefficient'\n",
      "print 'K-Means: %.2f' % silhouette_score(features, predictions)\n",
      "print 'Enterotypes: %.2f' % silhouette_score(features, labels)\n",
      "print\n",
      "# A clustering result satisfies completeness if all the data points that are members\n",
      "# of a given class are elements of the same cluster.\n",
      "print 'Completeness (Overlap): %.2f' % completeness_score(labels, predictions)"
     ],
     "language": "python",
     "metadata": {},
     "outputs": [
      {
       "output_type": "stream",
       "stream": "stdout",
       "text": [
        "Silhouette Coefficient\n",
        "K-Means: 0.42"
       ]
      },
      {
       "output_type": "stream",
       "stream": "stdout",
       "text": [
        "\n",
        "Enterotypes: 0.14"
       ]
      },
      {
       "output_type": "stream",
       "stream": "stdout",
       "text": [
        "\n",
        "\n",
        "Completeness (Overlap): 0.18\n"
       ]
      }
     ],
     "prompt_number": 63
    },
    {
     "cell_type": "code",
     "collapsed": false,
     "input": [
      "# compute dimension reduction to plot features in 2D\n",
      "pca = PCA().fit_transform(features)"
     ],
     "language": "python",
     "metadata": {},
     "outputs": [],
     "prompt_number": 64
    },
    {
     "cell_type": "code",
     "collapsed": false,
     "input": [
      "# Plot PCA\n",
      "title('Enterotypes')\n",
      "scatter(pca[1,], pca[0,], c=predictions, marker='o')\n",
      "pylab.show()"
     ],
     "language": "python",
     "metadata": {},
     "outputs": [
      {
       "metadata": {},
       "output_type": "display_data",
       "png": "[encoded data removed]",
       "text": [
        "<matplotlib.figure.Figure at 0x106872090>"
       ]
      }
     ],
     "prompt_number": 65
    },
    {
     "cell_type": "code",
     "collapsed": false,
     "input": [
      "scatter(pca[1,], pca[0,], c=labels, marker='o')\n",
      "title('K-Means Predictions')\n",
      "pylab.show()"
     ],
     "language": "python",
     "metadata": {},
     "outputs": [
      {
       "metadata": {},
       "output_type": "display_data",
       "png": "[encoded data removed]",
       "text": [
        "<matplotlib.figure.Figure at 0x10687a090>"
       ]
      }
     ],
     "prompt_number": 66
    }
   ],
   "metadata": {}
  }
 ]
}